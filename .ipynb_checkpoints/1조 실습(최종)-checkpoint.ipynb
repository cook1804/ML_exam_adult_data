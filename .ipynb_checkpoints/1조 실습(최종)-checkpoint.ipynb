{
 "cells": [
  {
   "cell_type": "markdown",
   "id": "5dd270dd",
   "metadata": {},
   "source": [
    "### 파일 불러오기"
   ]
  },
  {
   "cell_type": "code",
   "execution_count": null,
   "id": "23d3905b",
   "metadata": {
    "scrolled": true
   },
   "outputs": [],
   "source": [
    "import numpy as np\n",
    "import pandas as pd\n",
    "import matplotlib as mpl\n",
    "import matplotlib.pyplot as plt\n",
    "import seaborn as sns\n",
    "%matplotlib inline\n",
    "\n",
    "\n",
    "adult_df_og = pd.read_csv('adult.csv',header = None , index_col=False,\n",
    "    names=['age', 'workclass', 'fnlwgt', 'education',  'education-num',\n",
    "           'marital-status', 'occupation', 'relationship', 'race', 'gender',\n",
    "           'capital-gain', 'capital-loss', 'hours-per-week', 'native-country',\n",
    "           'income'])\n",
    "\n",
    "\n",
    "adult_df = adult_df_og.copy()\n",
    "adult_df.head(20)"
   ]
  },
  {
   "cell_type": "markdown",
   "id": "2c99bf0a",
   "metadata": {},
   "source": [
    "### 파일의 기본 정보 확인"
   ]
  },
  {
   "cell_type": "markdown",
   "id": "fb344734",
   "metadata": {},
   "source": [
    "##### age : 나이\n",
    "##### workclass : 고용 형태\n",
    "##### fnlwgt : 사람 대표성을 나타내는 가중치 (final weight의 약자)\n",
    "##### education : 교육 수준\n",
    "##### education_num : 교육 수준 수치\n",
    "##### marital_status: 결혼 상태\n",
    "##### occupation : 업종\n",
    "##### relationship : 가족 관계\n",
    "##### race : 인종\n",
    "##### sex : 성별\n",
    "##### capital_gain : 양도 소득\n",
    "##### capital_loss : 양도 손실\n",
    "##### hours_per_week : 주당 근무 시간\n",
    "##### native_country : 국적\n",
    "##### income : 수익 (예측해야 하는 값)"
   ]
  },
  {
   "cell_type": "code",
   "execution_count": null,
   "id": "a2c71c1a",
   "metadata": {},
   "outputs": [],
   "source": [
    "print(adult_df.columns)   "
   ]
  },
  {
   "cell_type": "markdown",
   "id": "e328c9e2",
   "metadata": {},
   "source": [
    "#### dataframe의 정보확인\n",
    "#### null값 확인\n",
    "#### 'object'는 숫자형이 아닌 자료형 데이터이므로 전처리과정 필요"
   ]
  },
  {
   "cell_type": "code",
   "execution_count": null,
   "id": "c987f6a0",
   "metadata": {},
   "outputs": [],
   "source": [
    "adult_df.info()"
   ]
  },
  {
   "cell_type": "markdown",
   "id": "20bdb7fe",
   "metadata": {},
   "source": [
    "### 라벨 인코딩 ( >50K = 1,  <=50K = 0 )"
   ]
  },
  {
   "cell_type": "code",
   "execution_count": null,
   "id": "11740c2e",
   "metadata": {},
   "outputs": [],
   "source": [
    "#income의 문자열데이터를 0,1로 바꾸기 (object -> (adult_df['income'] == ' >50K')은 bool형) -> int)\n",
    "adult_df['income'] = (adult_df['income'] == ' >50K').astype(int)\n",
    "adult_df['income']\n"
   ]
  },
  {
   "cell_type": "markdown",
   "id": "d19eaaee",
   "metadata": {},
   "source": [
    "### feature에 어떤 값들이 있는지 확인 "
   ]
  },
  {
   "cell_type": "markdown",
   "id": "0770d809",
   "metadata": {},
   "source": [
    "### feature 값 중 '?' 가 있다는 것을 확인함. 그리고 대략적인 값의 분포를 확인"
   ]
  },
  {
   "cell_type": "code",
   "execution_count": null,
   "id": "9c20c41c",
   "metadata": {},
   "outputs": [],
   "source": [
    "#피처값이 몇개씩 있는지 확인\n",
    "adult_df['workclass'].value_counts()"
   ]
  },
  {
   "cell_type": "code",
   "execution_count": null,
   "id": "92b8076f",
   "metadata": {},
   "outputs": [],
   "source": [
    "adult_df.describe()"
   ]
  },
  {
   "cell_type": "markdown",
   "id": "7dd33d42",
   "metadata": {},
   "source": [
    "#### feature 값의 분포 시각화 "
   ]
  },
  {
   "cell_type": "code",
   "execution_count": null,
   "id": "1352387d",
   "metadata": {},
   "outputs": [],
   "source": [
    "# 나이 및 성별에 따른 소득분포\n",
    "def get_category(age):\n",
    "    cat = ''\n",
    "    if age < 40: cat = \"30's\"\n",
    "    elif age < 50: cat = \"40's\"\n",
    "    elif age < 60: cat = \"50's\"\n",
    "    elif age < 70: cat = \"60's\"\n",
    "    elif age < 80: cat = \"70's\"\n",
    "    else: cat = \"80's\"\n",
    "    \n",
    "    return cat\n",
    "\n",
    "plt.figure(figsize=(10,6))\n",
    "group_names = [\"30's\", \"40's\", \"50's\", \"60's\", \"70's\", \"80's\"]\n",
    "\n",
    "adult_df['age_cat'] = adult_df['age'].apply(lambda x : get_category(x))\n",
    "sns.barplot(x = 'age_cat', y = 'income', hue = 'gender', data = adult_df, order = group_names)\n",
    "adult_df.drop('age_cat', axis = 1, inplace = True)"
   ]
  },
  {
   "cell_type": "code",
   "execution_count": null,
   "id": "7e9c76d0",
   "metadata": {},
   "outputs": [],
   "source": [
    "fig,ax= plt.subplots(1,1,figsize=(12,5))#plot의 크기 지정 \n",
    "sns.countplot(data=adult_df,x='workclass',ax=ax)#피처값 시각화\n",
    "plt.show()"
   ]
  },
  {
   "cell_type": "code",
   "execution_count": null,
   "id": "0b6d9ed2",
   "metadata": {},
   "outputs": [],
   "source": [
    "fig,ax= plt.subplots(1,1,figsize=(12,5))#plot의 크기 지정 \n",
    "sns.countplot(data=adult_df,x='race',ax=ax,hue='gender')\n",
    "#피처값 시각화,#hue='',''값에 따라 다른 색상막대로 나누어 확인 가능 \n",
    "plt.show()"
   ]
  },
  {
   "cell_type": "code",
   "execution_count": null,
   "id": "0a7aeedd",
   "metadata": {},
   "outputs": [],
   "source": [
    "fig,ax= plt.subplots(1,1,figsize=(12,5))#plot의 크기 지정 \n",
    "ax.hist(adult_df['age'],width=4)#히스토그램 #width라인 간격 조정 가능 \n",
    "ax.set_title('Age distribution',fontweight='bold')\n",
    "plt.show()"
   ]
  },
  {
   "cell_type": "code",
   "execution_count": null,
   "id": "4fc25b2e",
   "metadata": {},
   "outputs": [],
   "source": [
    "sns.countplot('income', data=adult_df)"
   ]
  },
  {
   "cell_type": "markdown",
   "id": "dd6dca98",
   "metadata": {},
   "source": [
    "### 데이터 전처리\n",
    "### 1. feature와 label(income)과의 관계 확인  "
   ]
  },
  {
   "cell_type": "markdown",
   "id": "2629ef0e",
   "metadata": {},
   "source": [
    "#### education education-num"
   ]
  },
  {
   "cell_type": "code",
   "execution_count": null,
   "id": "7973af9b",
   "metadata": {},
   "outputs": [],
   "source": [
    "adult_df.groupby(['education','education-num'])[['income']].mean()"
   ]
  },
  {
   "cell_type": "code",
   "execution_count": null,
   "id": "76ca1f7e",
   "metadata": {},
   "outputs": [],
   "source": [
    "adult_df['education'].value_counts()"
   ]
  },
  {
   "cell_type": "code",
   "execution_count": null,
   "id": "98fabd60",
   "metadata": {},
   "outputs": [],
   "source": [
    "adult_df['education-num'].value_counts()"
   ]
  },
  {
   "cell_type": "markdown",
   "id": "d03a0e85",
   "metadata": {},
   "source": [
    "#### 2 .'?'(결측치) 채우기"
   ]
  },
  {
   "cell_type": "code",
   "execution_count": null,
   "id": "26779bae",
   "metadata": {},
   "outputs": [],
   "source": [
    "missing_columns = ['workclass', 'occupation', 'native-country']  #찾아보니 3개의 feature안에 '?' 있음\n",
    "adult_df[missing_columns] == ' ?'"
   ]
  },
  {
   "cell_type": "code",
   "execution_count": null,
   "id": "40b915c3",
   "metadata": {},
   "outputs": [],
   "source": [
    "(adult_df[missing_columns] == ' ?').sum()"
   ]
  },
  {
   "cell_type": "code",
   "execution_count": null,
   "id": "fa75b480",
   "metadata": {},
   "outputs": [],
   "source": [
    "for column in missing_columns:\n",
    "    adult_df.loc[adult_df_og[column] == ' ?', column] = adult_df_og[column].mode()[0]  #최빈값으로 바꿔줌. \n",
    "    "
   ]
  },
  {
   "cell_type": "code",
   "execution_count": null,
   "id": "993d85a9",
   "metadata": {},
   "outputs": [],
   "source": [
    "adult_df.head(20)"
   ]
  },
  {
   "cell_type": "code",
   "execution_count": null,
   "id": "2dca7692",
   "metadata": {},
   "outputs": [],
   "source": [
    "adult_df.info()"
   ]
  },
  {
   "cell_type": "markdown",
   "id": "b042edf4",
   "metadata": {},
   "source": [
    "### 3. 'capital-gain', \t'capital-loss' 값 조정 "
   ]
  },
  {
   "cell_type": "code",
   "execution_count": null,
   "id": "993cb6d4",
   "metadata": {},
   "outputs": [],
   "source": [
    "adult_df['capital-gain'].value_counts()"
   ]
  },
  {
   "cell_type": "code",
   "execution_count": null,
   "id": "084c88dc",
   "metadata": {},
   "outputs": [],
   "source": [
    "adult_df['capital-gain'].plot.hist()"
   ]
  },
  {
   "cell_type": "code",
   "execution_count": null,
   "id": "df952142",
   "metadata": {},
   "outputs": [],
   "source": [
    "adult_df['capital-loss'].value_counts()"
   ]
  },
  {
   "cell_type": "code",
   "execution_count": null,
   "id": "24cc81eb",
   "metadata": {},
   "outputs": [],
   "source": [
    "adult_df['capital-loss'].plot.hist()"
   ]
  },
  {
   "cell_type": "markdown",
   "id": "b26fba07",
   "metadata": {},
   "source": [
    "#### 너무 값이 한쪽으로 치우쳐있다. 로그함수를 사용하여 'capital-gain'과 'capital-loss' 각각의 값의차이를 줄여보자 (x축 한 눈금을 보면 차이를 알 수 있음.)"
   ]
  },
  {
   "cell_type": "code",
   "execution_count": null,
   "id": "e24f69c3",
   "metadata": {},
   "outputs": [],
   "source": [
    "adult_df['capital-gain'] = adult_df_og['capital-gain'].map(lambda x : np.log(x) if x != 0 else 0)\n",
    "adult_df['capital-loss'] = adult_df_og['capital-loss'].map(lambda x : np.log(x) if x != 0 else 0)"
   ]
  },
  {
   "cell_type": "code",
   "execution_count": null,
   "id": "85ee80d0",
   "metadata": {},
   "outputs": [],
   "source": [
    "adult_df['capital-gain'].plot.hist()"
   ]
  },
  {
   "cell_type": "code",
   "execution_count": null,
   "id": "259182f5",
   "metadata": {},
   "outputs": [],
   "source": [
    "adult_df['capital-loss'].plot.hist()"
   ]
  },
  {
   "cell_type": "code",
   "execution_count": null,
   "id": "bb000e93",
   "metadata": {},
   "outputs": [],
   "source": [
    "adult_df"
   ]
  },
  {
   "cell_type": "code",
   "execution_count": null,
   "id": "9ea38d9f",
   "metadata": {},
   "outputs": [],
   "source": [
    "from sklearn.preprocessing import LabelEncoder\n",
    "\n",
    "\n",
    "\n",
    "# 머신러닝 알고리즘에 불필요한 속성 제거\n",
    "def drop_features(df):\n",
    "    df.drop(['education','marital-status'],axis=1,inplace=True)\n",
    "    return df\n",
    "\n",
    "# 레이블 인코딩 수행. \n",
    "def format_features(df):\n",
    "    \n",
    "    features = ['workclass','fnlwgt','occupation','relationship','race','gender','native-country']\n",
    "    for feature in features:\n",
    "        le = LabelEncoder()\n",
    "        le = le.fit(df[feature])\n",
    "        df[feature] = le.transform(df[feature])\n",
    "    return df\n",
    "\n",
    "# 앞에서 설정한 Data Preprocessing 함수 호출\n",
    "def transform_features(df):\n",
    "    df = drop_features(df)\n",
    "    df = format_features(df)\n",
    "    return df\n"
   ]
  },
  {
   "cell_type": "code",
   "execution_count": null,
   "id": "5879105c",
   "metadata": {},
   "outputs": [],
   "source": [
    "# 원본 데이터를 재로딩 하고, feature데이터 셋과 Label 데이터 셋 추출. \n",
    "adult_df_og = pd.read_csv('adult.csv',header = None , index_col=False,\n",
    "    names=['age', 'workclass', 'fnlwgt', 'education',  'education-num',\n",
    "           'marital-status', 'occupation', 'relationship', 'race', 'gender',\n",
    "           'capital-gain', 'capital-loss', 'hours-per-week', 'native-country',\n",
    "           'income'])\n",
    "\n",
    "adult_df = transform_features(adult_df)\n",
    "\n",
    "y_adult_df = adult_df['income']\n",
    "X_adult_df= adult_df.drop('income',axis=1)\n",
    "\n",
    "\n",
    "adult_df"
   ]
  },
  {
   "cell_type": "code",
   "execution_count": null,
   "id": "d5c68810",
   "metadata": {},
   "outputs": [],
   "source": [
    "import numpy as np\n",
    "import pandas as pd\n",
    "import matplotlib.pyplot as plt\n",
    "%matplotlib inline\n",
    "from sklearn.model_selection import train_test_split\n",
    "##데이터분할\n",
    "from sklearn.metrics import accuracy_score, precision_score, recall_score, roc_auc_score\n",
    "##데이터\n",
    "from sklearn.metrics import f1_score, confusion_matrix, precision_recall_curve, roc_curve\n",
    "from sklearn.preprocessing import StandardScaler\n",
    "## 이상 항상 불러오는 모듈? 파라미터들\n",
    "from sklearn.linear_model import LogisticRegression"
   ]
  },
  {
   "cell_type": "code",
   "execution_count": null,
   "id": "0d764011",
   "metadata": {},
   "outputs": [],
   "source": [
    "from sklearn.model_selection import train_test_split\n",
    "X_train, X_test, y_train, y_test=train_test_split(X_adult_df, y_adult_df, \\\n",
    "                                                  test_size=0.2, random_state=11)\n"
   ]
  },
  {
   "cell_type": "code",
   "execution_count": null,
   "id": "4a23484b",
   "metadata": {},
   "outputs": [],
   "source": [
    "def get_clf_eval(y_test, pred=None, pred_proba=None):\n",
    "    confusion = confusion_matrix( y_test, pred)\n",
    "    accuracy = accuracy_score(y_test , pred)\n",
    "    precision = precision_score(y_test , pred)\n",
    "    recall = recall_score(y_test , pred)\n",
    "    f1 = f1_score(y_test,pred)\n",
    "    # ROC-AUC 추가 \n",
    "    roc_auc = roc_auc_score(y_test, pred_proba)\n",
    "    print('오차 행렬')\n",
    "    print(confusion)\n",
    "    # ROC-AUC print 추가\n",
    "    print('정확도: {0:.4f}, 정밀도: {1:.4f}, 재현율: {2:.4f},\\\n",
    "    F1: {3:.4f}, AUC:{4:.4f}'.format(accuracy, precision, recall, f1, roc_auc))"
   ]
  },
  {
   "cell_type": "code",
   "execution_count": null,
   "id": "8f31ec1b",
   "metadata": {},
   "outputs": [],
   "source": [
    "X = X_adult_df.iloc[:, :-1]\n",
    "y = X_adult_df.iloc[:, -1]\n",
    "\n",
    "#X_train, X_test, y_train, y_test = train_test_split(X, y, test_size = 0.2, random_state = 11, stratify=y)\n",
    "\n",
    "# DecisionTreeClassifier 학습/예측/평가\n",
    "dt_clf = DecisionTreeClassifier(random_state=11)\n",
    "dt_clf.fit(X_train , y_train)\n",
    "pred = dt_clf.predict(X_test)\n",
    "pred_proba = dt_clf.predict_proba(X_test)[:, 1]\n",
    "\n",
    "print('\\nDecisionTreeClassifier')\n",
    "get_clf_eval(y_test , pred, pred_proba)\n",
    "\n",
    "# RandomForestClassifier 학습/예측/평가\n",
    "rf_clf = DecisionTreeClassifier(random_state=11)\n",
    "rf_clf.fit(X_train , y_train)\n",
    "pred = rf_clf.predict(X_test)\n",
    "pred_proba = rf_clf.predict_proba(X_test)[:, 1]\n",
    "\n",
    "print('\\nRandomForestClassifier')\n",
    "get_clf_eval(y_test , pred, pred_proba)\n",
    "\n",
    "# 로지스틱 회귀로 학습,예측 및 평가 수행. \n",
    "lr_clf = LogisticRegression()\n",
    "lr_clf.fit(X_train , y_train)\n",
    "pred = lr_clf.predict(X_test)\n",
    "pred_proba = lr_clf.predict_proba(X_test)[:, 1]\n",
    "\n",
    "print('\\nLogisticRegression :')\n",
    "get_clf_eval(y_test , pred, pred_proba)"
   ]
  },
  {
   "cell_type": "code",
   "execution_count": null,
   "id": "54a0e4e8",
   "metadata": {},
   "outputs": [],
   "source": [
    "from sklearn.model_selection import KFold\n",
    "\n",
    "def exec_kfold(clf, folds=5):\n",
    "    # 폴드 세트를 5개인 KFold객체를 생성, 폴드 수만큼 예측결과 저장을 위한  리스트 객체 생성.\n",
    "    kfold = KFold(n_splits=folds)\n",
    "    scores = []\n",
    "    \n",
    "    # KFold 교차 검증 수행. \n",
    "    for iter_count , (train_index, test_index) in enumerate(kfold.split(X_adult_df)):\n",
    "        # X_titanic_df 데이터에서 교차 검증별로 학습과 검증 데이터를 가리키는 index 생성\n",
    "        X_train, X_test = X_adult_df.values[train_index], X_adult_df.values[test_index]\n",
    "        y_train, y_test = y_adult_df.values[train_index], y_adult_df.values[test_index]\n",
    "        \n",
    "        # Classifier 학습, 예측, 정확도 계산 \n",
    "        clf.fit(X_train, y_train) \n",
    "        predictions = clf.predict(X_test)\n",
    "        accuracy = accuracy_score(y_test, predictions)\n",
    "        scores.append(accuracy)\n",
    "        print(\"교차 검증 {0} 정확도: {1:.4f}\".format(iter_count, accuracy))     \n",
    "    \n",
    "    # 5개 fold에서의 평균 정확도 계산. \n",
    "    mean_score = np.mean(scores)\n",
    "    print(\"평균 정확도: {0:.4f}\".format(mean_score)) \n",
    "# exec_kfold 호출\n",
    "exec_kfold(dt_clf , folds=5) "
   ]
  },
  {
   "cell_type": "code",
   "execution_count": null,
   "id": "97bf8f31",
   "metadata": {},
   "outputs": [],
   "source": [
    "from sklearn.model_selection import cross_val_score\n",
    "\n",
    "scores = cross_val_score(dt_clf, X_adult_df , y_adult_df , cv=5)\n",
    "for iter_count,accuracy in enumerate(scores):\n",
    "    print(\"교차 검증 {0} 정확도: {1:.4f}\".format(iter_count, accuracy))\n",
    "\n",
    "print(\"평균 정확도: {0:.4f}\".format(np.mean(scores)))"
   ]
  },
  {
   "cell_type": "code",
   "execution_count": null,
   "id": "053012ce",
   "metadata": {},
   "outputs": [],
   "source": [
    "from sklearn.model_selection import GridSearchCV\n",
    "\n",
    "parameters = {'max_depth':[2,3,5,10],\n",
    "             'min_samples_split':[2,3,5], 'min_samples_leaf':[1,5,8]}\n",
    "\n",
    "grid_dclf = GridSearchCV(dt_clf , param_grid=parameters , scoring='accuracy' , cv=5)\n",
    "grid_dclf.fit(X_train , y_train)\n",
    "\n",
    "print('GridSearchCV 최적 하이퍼 파라미터 :',grid_dclf.best_params_)\n",
    "print('GridSearchCV 최고 정확도: {0:.4f}'.format(grid_dclf.best_score_))\n",
    "best_dclf = grid_dclf.best_estimator_\n",
    "\n",
    "# GridSearchCV의 최적 하이퍼 파라미터로 학습된 Estimator로 예측 및 평가 수행. \n",
    "dpredictions = best_dclf.predict(X_test)\n",
    "accuracy = accuracy_score(y_test , dpredictions)\n",
    "print('테스트 세트에서의 DecisionTreeClassifier 정확도 : {0:.4f}'.format(accuracy))"
   ]
  },
  {
   "cell_type": "code",
   "execution_count": null,
   "id": "1e16fbc8",
   "metadata": {},
   "outputs": [],
   "source": [
    "from sklearn.metrics import confusion_matrix\n",
    "\n",
    "confusion_matrix(y_test, rf_pred)"
   ]
  },
  {
   "cell_type": "code",
   "execution_count": null,
   "id": "bab233bb",
   "metadata": {},
   "outputs": [],
   "source": [
    "import matplotlib.pyplot as plt\n",
    "import matplotlib.ticker as ticker\n",
    "%matplotlib inline\n",
    "\n",
    "def precision_recall_curve_plot(y_test=None, pred_proba_c1=None):\n",
    "    # threshold ndarray와 이 threshold에 따른 정밀도, 재현율 ndarray 추출. \n",
    "    precisions, recalls, thresholds = precision_recall_curve( y_test, pred_proba_c1)\n",
    "    \n",
    "    # X축을 threshold값으로, Y축은 정밀도, 재현율 값으로 각각 Plot 수행. 정밀도는 점선으로 표시\n",
    "    plt.figure(figsize=(8,6))\n",
    "    threshold_boundary = thresholds.shape[0]\n",
    "    plt.plot(thresholds, precisions[0:threshold_boundary], linestyle='--', label='precision')\n",
    "    plt.plot(thresholds, recalls[0:threshold_boundary],label='recall')\n",
    "    \n",
    "    # threshold 값 X 축의 Scale을 0.1 단위로 변경\n",
    "    start, end = plt.xlim()\n",
    "    plt.xticks(np.round(np.arange(start, end, 0.1),2))\n",
    "    \n",
    "    # x축, y축 label과 legend, 그리고 grid 설정\n",
    "    plt.xlabel('Threshold value'); plt.ylabel('Precision and Recall value')\n",
    "    plt.legend(); plt.grid()\n",
    "    plt.show()\n",
    "    \n",
    "    ## 평가지표 그림 그리기"
   ]
  },
  {
   "cell_type": "code",
   "execution_count": null,
   "id": "cb61106a",
   "metadata": {
    "scrolled": true
   },
   "outputs": [],
   "source": [
    "pred_proba_c1 = lr_clf.predict_proba(X_test)[:, 1]\n",
    "precision_recall_curve_plot(y_test, pred_proba_c1)"
   ]
  },
  {
   "cell_type": "code",
   "execution_count": null,
   "id": "b43ecdff",
   "metadata": {},
   "outputs": [],
   "source": [
    "# from sklearn.tree import DecisionTreeClassifier\n",
    "# from sklearn.ensemble import RandomForestClassifier\n",
    "# from sklearn.linear_model import LogisticRegression\n",
    "# from sklearn.metrics import accuracy_score\n",
    "\n",
    "# # 결정트리, Random Forest, 로지스틱 회귀를 위한 사이킷런 Classifier 클래스 생성\n",
    "# dt_clf = DecisionTreeClassifier(random_state=11)\n",
    "# rf_clf = RandomForestClassifier(random_state=11)\n",
    "# lr_clf = LogisticRegression()\n",
    "\n",
    "# # DecisionTreeClassifier 학습/예측/평가\n",
    "# dt_clf.fit(X_train , y_train)\n",
    "# dt_pred = dt_clf.predict(X_test)\n",
    "# print('DecisionTreeClassifier 정확도: {0:.4f}'.format(accuracy_score(y_test, dt_pred)))\n",
    "# print('DecisionTreeClassifier 정밀도: {0: 4f}'.format(precision_score(y_test,dt_pred)))\n",
    "# print('DecisionTreeClassifier 재현율: {0: 4f}\\n'.format(recall_score(y_test,dt_pred)))\n",
    "\n",
    "# # RandomForestClassifier 학습/예측/평가\n",
    "# rf_clf.fit(X_train , y_train)\n",
    "# rf_pred = rf_clf.predict(X_test)\n",
    "# print('RandomForestClassifier 정확도:{0:.4f}'.format(accuracy_score(y_test, rf_pred)))\n",
    "# print('RandomForestClassifier 정밀도: {0: 4f}'.format(precision_score(y_test,rf_pred)))\n",
    "# print('RandomForestClassifier 재현율: {0: 4f}\\n'.format(recall_score(y_test,rf_pred)))\n",
    "\n",
    "# # LogisticRegression 학습/예측/평가\n",
    "# lr_clf.fit(X_train , y_train)\n",
    "# lr_pred = lr_clf.predict(X_test)\n",
    "# print('LogisticRegression 정확도: {0:.4f}'.format(accuracy_score(y_test, lr_pred)))\n",
    "# print('LogisticRegression 정밀도: {0: 4f}'.format(precision_score(y_test,lr_pred)))\n",
    "# print('LogisticRegression 재현율: {0: 4f}'.format(recall_score(y_test,lr_pred)))"
   ]
  },
  {
   "cell_type": "markdown",
   "id": "bf5ddcf7",
   "metadata": {},
   "source": [
    "# - 끝 -"
   ]
  },
  {
   "cell_type": "code",
   "execution_count": null,
   "id": "b792d9ba",
   "metadata": {},
   "outputs": [],
   "source": [
    "submit = pd.read_csv(\"adult.csv\")\n",
    "submit.head()"
   ]
  }
 ],
 "metadata": {
  "kernelspec": {
   "display_name": "Python 3",
   "language": "python",
   "name": "python3"
  },
  "language_info": {
   "codemirror_mode": {
    "name": "ipython",
    "version": 3
   },
   "file_extension": ".py",
   "mimetype": "text/x-python",
   "name": "python",
   "nbconvert_exporter": "python",
   "pygments_lexer": "ipython3",
   "version": "3.8.9"
  }
 },
 "nbformat": 4,
 "nbformat_minor": 5
}
